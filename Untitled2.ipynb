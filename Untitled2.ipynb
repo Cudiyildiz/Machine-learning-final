{
  "nbformat": 4,
  "nbformat_minor": 0,
  "metadata": {
    "colab": {
      "provenance": [],
      "authorship_tag": "ABX9TyM0Y0KaJ0W0T7vfsSl2rd81",
      "include_colab_link": true
    },
    "kernelspec": {
      "name": "python3",
      "display_name": "Python 3"
    },
    "language_info": {
      "name": "python"
    }
  },
  "cells": [
    {
      "cell_type": "markdown",
      "metadata": {
        "id": "view-in-github",
        "colab_type": "text"
      },
      "source": [
        "<a href=\"https://colab.research.google.com/github/Cudiyildiz/Machine-learning-final/blob/main/Untitled2.ipynb\" target=\"_parent\"><img src=\"https://colab.research.google.com/assets/colab-badge.svg\" alt=\"Open In Colab\"/></a>"
      ]
    },
    {
      "cell_type": "code",
      "source": [
        "import pandas as pd\n",
        "import numpy as np\n",
        "from sklearn.model_selection import train_test_split, GridSearchCV\n",
        "from sklearn.preprocessing import StandardScaler\n",
        "from sklearn.metrics import confusion_matrix, classification_report, roc_auc_score, roc_curve\n",
        "import matplotlib.pyplot as plt\n",
        "from sklearn.naive_bayes import GaussianNB\n",
        "from sklearn.neighbors import KNeighborsClassifier\n",
        "from sklearn.neural_network import MLPClassifier\n",
        "from sklearn.svm import SVC"
      ],
      "metadata": {
        "id": "ehzN4UWm2ALB"
      },
      "execution_count": 1,
      "outputs": []
    },
    {
      "cell_type": "markdown",
      "source": [
        "Yukarıda projemiz için gerekli kullanacağımız kütüphaneleri dahil ettim."
      ],
      "metadata": {
        "id": "OinS92BThkOE"
      }
    },
    {
      "cell_type": "code",
      "source": [
        "column_names = [\"Pregnancies\", \"Glucose\", \"BloodPressure\", \"SkinThickness\", \"Insulin\", \"BMI\", \"DiabetesPedigreeFunction\", \"Age\", \"Outcome\"]\n",
        "data = pd.read_csv(\"veri-seti.txt\", delimiter='\\t', header=None, names=column_names)"
      ],
      "metadata": {
        "id": "fd-inxhs2FPQ"
      },
      "execution_count": 2,
      "outputs": []
    },
    {
      "cell_type": "markdown",
      "source": [
        "Yukarıda veri setimizi ekleyip değişkenlerimizi atadık."
      ],
      "metadata": {
        "id": "DPU4jf_x22gS"
      }
    },
    {
      "cell_type": "code",
      "source": [
        "data[['Glucose', 'BloodPressure', 'SkinThickness', 'Insulin', 'BMI']] = data[['Glucose', 'BloodPressure', 'SkinThickness', 'Insulin', 'BMI']].replace(0, np.nan)\n",
        "data.fillna(data.mean(), inplace=True)"
      ],
      "metadata": {
        "id": "5kx_CthY240Z"
      },
      "execution_count": 3,
      "outputs": []
    },
    {
      "cell_type": "markdown",
      "source": [
        "Yukarıda ise veri setimizde eksik yer varsa bu yerlerin doldurulmasını sağlıyoruz."
      ],
      "metadata": {
        "id": "LfpUQj952-gi"
      }
    },
    {
      "cell_type": "code",
      "source": [
        "X = data.drop(\"Outcome\", axis=1)\n",
        "y = data[\"Outcome\"]"
      ],
      "metadata": {
        "id": "ZFzfhrBm3M62"
      },
      "execution_count": 4,
      "outputs": []
    },
    {
      "cell_type": "markdown",
      "source": [
        "Yukarıda ki kodda Veri setindeki değişkenleri Özelliklerini X, hedef değişkeni Y olarak belirliyoruz."
      ],
      "metadata": {
        "id": "InuQw0oF3REl"
      }
    },
    {
      "cell_type": "code",
      "source": [
        "X_train, X_test, y_train, y_test = train_test_split(X, y, test_size=0.3, random_state=42)"
      ],
      "metadata": {
        "id": "GxVh5Uvz35AU"
      },
      "execution_count": 5,
      "outputs": []
    },
    {
      "cell_type": "markdown",
      "source": [
        "Geliştireceğimiz modelde veri setimizi %70 eğitim ve %30 test olacak şekilde ayırıyoruz.\n"
      ],
      "metadata": {
        "id": "qDtmYl6c39rx"
      }
    },
    {
      "cell_type": "code",
      "source": [
        "scaler = StandardScaler()\n",
        "X_train = scaler.fit_transform(X_train)\n",
        "X_test = scaler.transform(X_test)"
      ],
      "metadata": {
        "id": "rWZwVEeN4OHW"
      },
      "execution_count": 6,
      "outputs": []
    },
    {
      "cell_type": "markdown",
      "source": [
        "Yukarıdaki kodda \"StandardScaler\" kullanarak, eğitim verisini (X_train) ölçeklendiriyor ve bu ölçeklemeyi test verisine (X_test) uyguluyoruz."
      ],
      "metadata": {
        "id": "0SMry1gVLZMV"
      }
    },
    {
      "cell_type": "code",
      "source": [
        "nb_model = GaussianNB()\n",
        "nb_model.fit(X_train, y_train)\n",
        "y_pred_nb = nb_model.predict(X_test)"
      ],
      "metadata": {
        "id": "ZDBKo5DJr1jI"
      },
      "execution_count": 7,
      "outputs": []
    },
    {
      "cell_type": "markdown",
      "source": [
        "Bu kodda ise Gaussian Naive Bayes modelini oluşturulup eğitim verisiyle eğitiyor ve ardından test verisi üzerinde tahminler yapıyoruz."
      ],
      "metadata": {
        "id": "VMLcUxXR1R_f"
      }
    },
    {
      "cell_type": "code",
      "source": [
        "print(\"Naive Bayes Classifier\")\n",
        "print(confusion_matrix(y_test, y_pred_nb))\n",
        "print(classification_report(y_test, y_pred_nb))"
      ],
      "metadata": {
        "colab": {
          "base_uri": "https://localhost:8080/"
        },
        "id": "IAqKvabB1mWt",
        "outputId": "e2dad0d1-05d2-4d08-f593-9687e8ae668d"
      },
      "execution_count": 8,
      "outputs": [
        {
          "output_type": "stream",
          "name": "stdout",
          "text": [
            "Naive Bayes Classifier\n",
            "[[119  32]\n",
            " [ 28  52]]\n",
            "              precision    recall  f1-score   support\n",
            "\n",
            "           0       0.81      0.79      0.80       151\n",
            "           1       0.62      0.65      0.63        80\n",
            "\n",
            "    accuracy                           0.74       231\n",
            "   macro avg       0.71      0.72      0.72       231\n",
            "weighted avg       0.74      0.74      0.74       231\n",
            "\n"
          ]
        }
      ]
    },
    {
      "cell_type": "markdown",
      "source": [
        "Yukarda elde etiğimiz verieleri ekrana yazdırıyoruz. Karşımızdaki çıktı bize Naive Bayes sınıflandırıcısının %74 doğrulukla çalıştığını gösteriyor.Aynı zamanda Sınıf 0 için precision %81 ve recall %79, Sınıf 1 için precision %62 ve recall %65'tir. Model, Sınıf 0'ı daha iyi tahmin eder ve genel performans F1-skorlarıyla değerlendirildiğinde makro ortalama %72 ve ağırlıklı ortalama %74'tür."
      ],
      "metadata": {
        "id": "qQloOC741rxQ"
      }
    },
    {
      "cell_type": "code",
      "source": [
        "fpr_nb, tpr_nb, _ = roc_curve(y_test, nb_model.predict_proba(X_test)[:,1])\n",
        "roc_auc_nb = roc_auc_score(y_test, nb_model.predict_proba(X_test)[:,1])\n",
        "plt.figure()\n",
        "plt.plot(fpr_nb, tpr_nb, color='darkorange', lw=2, label='Naive Bayes (area = %0.2f)' % roc_auc_nb)"
      ],
      "metadata": {
        "colab": {
          "base_uri": "https://localhost:8080/",
          "height": 448
        },
        "id": "mSCXKaC72vCf",
        "outputId": "aa09e3f2-4f75-4e93-efbc-e165b491ea4c"
      },
      "execution_count": 9,
      "outputs": [
        {
          "output_type": "execute_result",
          "data": {
            "text/plain": [
              "[<matplotlib.lines.Line2D at 0x7becd20d6e90>]"
            ]
          },
          "metadata": {},
          "execution_count": 9
        },
        {
          "output_type": "display_data",
          "data": {
            "text/plain": [
              "<Figure size 640x480 with 1 Axes>"
            ],
            "image/png": "[encoded data removed]"
          },
          "metadata": {}
        }
      ]
    },
    {
      "cell_type": "markdown",
      "source": [
        "Bu kodda ise Naive Bayes sınıflandırıcısı için bir Roc eğrisi çiziyor.Karşımıza çıkan grafikte Naive Bayes sınıflandırıcısının performansını gösteren bir grafiktir. Eğrinin altındaki alan (AUC) yüksek olan bir sınıflandırıcı daha iyi sonuçlar verir. Naive Bayes sınıflandırıcısı için AUC değeri yaklaşık olarak 0.86'dır ve bu da sınıflandırıcının iyi bir performans sergilediğini gösterir."
      ],
      "metadata": {
        "id": "rCJUi9a-3dt-"
      }
    },
    {
      "cell_type": "code",
      "source": [
        "param_grid = {'n_neighbors': np.arange(1, 31)}\n",
        "knn = KNeighborsClassifier()\n",
        "knn_gscv = GridSearchCV(knn, param_grid, cv=5)\n",
        "knn_gscv.fit(X_train, y_train)\n",
        "best_k = knn_gscv.best_params_['n_neighbors']\n",
        "\n",
        "knn_model = KNeighborsClassifier(n_neighbors=best_k)\n",
        "knn_model.fit(X_train, y_train)\n",
        "y_pred_knn = knn_model.predict(X_test)"
      ],
      "metadata": {
        "id": "B6peLo8F31o5"
      },
      "execution_count": 10,
      "outputs": []
    },
    {
      "cell_type": "markdown",
      "source": [
        "Bu kodda KNN sınıflandırıcısı için en iyi komşu sayısını belirlemek amacıyla, GridSearchCV ile 1'den 30'a kadar olan n_neighbors değerlerini 5 katlı çapraz doğrulama ile aradık ve en iyi komşu sayısını bulduk. Bu en iyi komşu sayısıyla KNN modelini eğittik ve test verisi üzerinde tahminler yaptık."
      ],
      "metadata": {
        "id": "1_uXrCs_KmrU"
      }
    },
    {
      "cell_type": "code",
      "source": [
        "print(\"K-Nearest Neighbors Classifier\")\n",
        "print(f\"Best k: {best_k}\")\n",
        "print(confusion_matrix(y_test, y_pred_knn))\n",
        "print(classification_report(y_test, y_pred_knn))"
      ],
      "metadata": {
        "colab": {
          "base_uri": "https://localhost:8080/"
        },
        "id": "ckYM9sXqKxmE",
        "outputId": "c7f19058-5075-413d-d2c0-c75a78c9fa6a"
      },
      "execution_count": 11,
      "outputs": [
        {
          "output_type": "stream",
          "name": "stdout",
          "text": [
            "K-Nearest Neighbors Classifier\n",
            "Best k: 11\n",
            "[[121  30]\n",
            " [ 31  49]]\n",
            "              precision    recall  f1-score   support\n",
            "\n",
            "           0       0.80      0.80      0.80       151\n",
            "           1       0.62      0.61      0.62        80\n",
            "\n",
            "    accuracy                           0.74       231\n",
            "   macro avg       0.71      0.71      0.71       231\n",
            "weighted avg       0.74      0.74      0.74       231\n",
            "\n"
          ]
        }
      ]
    },
    {
      "cell_type": "markdown",
      "source": [
        "KNN sınıflandırıcısı için en iyi komşu sayısı 11 olarak belirlendi. Model %74 doğrulukla çalışır; Sınıf 0 için precision ve recall %80, Sınıf 1 için precision %62 ve recall %61'dir. Makro ve ağırlıklı ortalama metrikler sırasıyla %71 ve %74'tür."
      ],
      "metadata": {
        "id": "sl4naeILLUiI"
      }
    },
    {
      "cell_type": "code",
      "source": [
        "# ROC eğrisi (KNN)\n",
        "fpr_knn, tpr_knn, _ = roc_curve(y_test, knn_model.predict_proba(X_test)[:,1])\n",
        "roc_auc_knn = roc_auc_score(y_test, knn_model.predict_proba(X_test)[:,1])\n",
        "plt.plot(fpr_knn, tpr_knn, color='blue', lw=2, label='KNN (area = %0.2f)' % roc_auc_knn)"
      ],
      "metadata": {
        "colab": {
          "base_uri": "https://localhost:8080/",
          "height": 448
        },
        "id": "fu0l8CG6LaJ6",
        "outputId": "cafbd20f-2410-4473-92db-bd8bfc40e4c9"
      },
      "execution_count": 12,
      "outputs": [
        {
          "output_type": "execute_result",
          "data": {
            "text/plain": [
              "[<matplotlib.lines.Line2D at 0x7becd0034040>]"
            ]
          },
          "metadata": {},
          "execution_count": 12
        },
        {
          "output_type": "display_data",
          "data": {
            "text/plain": [
              "<Figure size 640x480 with 1 Axes>"
            ],
            "image/png": "[encoded data removed]"
          },
          "metadata": {}
        }
      ]
    },
    {
      "cell_type": "markdown",
      "source": [
        "Bu kodda ise K-En Yakın Komşular (KNN) sınıflandırıcısın için bir Roc eğrisi çiziyor.Eğri altındaki alan (AUC) daha yüksek olduğunda sınıflandırıcının performansı daha iyidir."
      ],
      "metadata": {
        "id": "3S0xRl4KL9y2"
      }
    },
    {
      "cell_type": "code",
      "source": [
        "mlp_model = MLPClassifier(max_iter=1000, random_state=42)\n",
        "mlp_model.fit(X_train, y_train)\n",
        "y_pred_mlp = mlp_model.predict(X_test)"
      ],
      "metadata": {
        "id": "kp5SrdkuMHZE"
      },
      "execution_count": null,
      "outputs": []
    },
    {
      "cell_type": "markdown",
      "source": [
        "Bu kod bloğunda, bir çok katmanlı algılayıcı (MLP) sınıflandırıcısı oluşturuluyor. Bu sınıflandırıcı, özelliklerin (X_train) ve hedef değişkenin (y_train) ayrı ayrı belirlenmiş eğitim veri kümesi üzerinde eğitilir. Daha sonra, eğitilmiş model test veri kümesi (X_test) üzerinde kullanılarak tahminler yapılır ve bu tahminler y_pred_mlp değişkenine kaydedilir. Bu tahminler, modelin test veri kümesi üzerindeki performansını değerlendirmek için kullanılır.\n",
        "\n",
        "\n",
        "\n",
        "\n",
        "\n",
        "\n"
      ],
      "metadata": {
        "id": "k24B1c9KM4rk"
      }
    },
    {
      "cell_type": "code",
      "source": [
        "print(\"Multi-Layer Perceptron Classifier\")\n",
        "print(confusion_matrix(y_test, y_pred_mlp))\n",
        "print(classification_report(y_test, y_pred_mlp))"
      ],
      "metadata": {
        "id": "JLPMdbyxM5q7",
        "colab": {
          "base_uri": "https://localhost:8080/"
        },
        "outputId": "5f5699f3-33af-4d45-ca45-c821ebfde8cd"
      },
      "execution_count": 14,
      "outputs": [
        {
          "output_type": "stream",
          "name": "stdout",
          "text": [
            "Multi-Layer Perceptron Classifier\n",
            "[[115  36]\n",
            " [ 38  42]]\n",
            "              precision    recall  f1-score   support\n",
            "\n",
            "           0       0.75      0.76      0.76       151\n",
            "           1       0.54      0.53      0.53        80\n",
            "\n",
            "    accuracy                           0.68       231\n",
            "   macro avg       0.65      0.64      0.64       231\n",
            "weighted avg       0.68      0.68      0.68       231\n",
            "\n"
          ]
        }
      ]
    },
    {
      "cell_type": "markdown",
      "source": [
        "Bu kod, çok katmanlı algılayıcı (MLP) sınıflandırıcısının performansını değerlendirir ve bu değerlendirmenin sonuçlarını çıktı olarak verir.Modelin doğruluk oranı %68'dir. Sınıf 0 için kesinlik ve duyarlılık değerleri daha yüksek (sırasıyla 0.75 ve 0.76), sınıf 1 için ise daha düşüktür (sırasıyla 0.54 ve 0.53). Karışıklık matrisi, modelin doğru ve yanlış tahminlerinin sayısını gösterir."
      ],
      "metadata": {
        "id": "t1TS3TvFWVxI"
      }
    },
    {
      "cell_type": "code",
      "source": [
        "fpr_mlp, tpr_mlp, _ = roc_curve(y_test, mlp_model.predict_proba(X_test)[:,1])\n",
        "roc_auc_mlp = roc_auc_score(y_test, mlp_model.predict_proba(X_test)[:,1])\n",
        "plt.plot(fpr_mlp, tpr_mlp, color='green', lw=2, label='MLP (area = %0.2f)' % roc_auc_mlp)"
      ],
      "metadata": {
        "colab": {
          "base_uri": "https://localhost:8080/",
          "height": 448
        },
        "id": "xAS20b7CWjXC",
        "outputId": "58e6731e-0726-4f2f-8dd9-29dc92cc9bda"
      },
      "execution_count": 15,
      "outputs": [
        {
          "output_type": "execute_result",
          "data": {
            "text/plain": [
              "[<matplotlib.lines.Line2D at 0x7beccfed8f10>]"
            ]
          },
          "metadata": {},
          "execution_count": 15
        },
        {
          "output_type": "display_data",
          "data": {
            "text/plain": [
              "<Figure size 640x480 with 1 Axes>"
            ],
            "image/png": "[encoded data removed]"
          },
          "metadata": {}
        }
      ]
    },
    {
      "cell_type": "markdown",
      "source": [
        "Bu grafik ROC eğrisini gösteriyor. Bu eğri, çok katmanlı algılayıcı (MLP) sınıflandırıcısının performansını değerlendirmek için kullanılır. Bu örnek, MLP modelini kullanarak oluşturulmuş ve altındaki alan 0.92 olarak hesaplanmıştır."
      ],
      "metadata": {
        "id": "gyD-KEF3pLIl"
      }
    },
    {
      "cell_type": "code",
      "source": [
        "svm_model = SVC(probability=True, random_state=42)\n",
        "svm_model.fit(X_train, y_train)\n",
        "y_pred_svm = svm_model.predict(X_test)"
      ],
      "metadata": {
        "id": "F_eCQY3Zpd8d"
      },
      "execution_count": 16,
      "outputs": []
    },
    {
      "cell_type": "markdown",
      "source": [
        "Bu kodda, Destek Vektör Makinesi (SVM) sınıflandırıcısını oluşturur, eğitir ve test veri kümesinde tahminler yapar"
      ],
      "metadata": {
        "id": "oNkIJubip4Or"
      }
    },
    {
      "cell_type": "code",
      "source": [
        "print(\"Support Vector Machine Classifier\")\n",
        "print(confusion_matrix(y_test, y_pred_svm))\n",
        "print(classification_report(y_test, y_pred_svm))"
      ],
      "metadata": {
        "colab": {
          "base_uri": "https://localhost:8080/"
        },
        "id": "_U8-vmyrqOy2",
        "outputId": "3b842c89-9314-4e02-8ba2-6a1253fa726f"
      },
      "execution_count": 17,
      "outputs": [
        {
          "output_type": "stream",
          "name": "stdout",
          "text": [
            "Support Vector Machine Classifier\n",
            "[[127  24]\n",
            " [ 35  45]]\n",
            "              precision    recall  f1-score   support\n",
            "\n",
            "           0       0.78      0.84      0.81       151\n",
            "           1       0.65      0.56      0.60        80\n",
            "\n",
            "    accuracy                           0.74       231\n",
            "   macro avg       0.72      0.70      0.71       231\n",
            "weighted avg       0.74      0.74      0.74       231\n",
            "\n"
          ]
        }
      ]
    },
    {
      "cell_type": "markdown",
      "source": [
        "Yukarıdaki kodda, Destek Vektör Makinesi (SVM) sınıflandırıcısının performansını değerlendirir ve sonuçları çıktı olarak verir.Modelin doğruluk oranı %74'tür. Sınıf 0 için kesinlik ve duyarlılık yüksek (sırasıyla 0.78 ve 0.84), sınıf 1 için ise daha düşüktür (sırasıyla 0.65 ve 0.56). Karışıklık matrisi, doğru ve yanlış tahmin sayılarını gösterir."
      ],
      "metadata": {
        "id": "Uo7OGrwoThFc"
      }
    },
    {
      "cell_type": "code",
      "source": [
        "fpr_svm, tpr_svm, _ = roc_curve(y_test, svm_model.predict_proba(X_test)[:,1])\n",
        "roc_auc_svm = roc_auc_score(y_test, svm_model.predict_proba(X_test)[:,1])\n",
        "plt.plot(fpr_svm, tpr_svm, color='red', lw=2, label='SVM (area = %0.2f)' % roc_auc_svm)"
      ],
      "metadata": {
        "colab": {
          "base_uri": "https://localhost:8080/",
          "height": 448
        },
        "id": "xisUKZ_oTtlu",
        "outputId": "52adeb4d-35fa-4acf-9925-b1c8c04d2546"
      },
      "execution_count": 18,
      "outputs": [
        {
          "output_type": "execute_result",
          "data": {
            "text/plain": [
              "[<matplotlib.lines.Line2D at 0x7beccff3a110>]"
            ]
          },
          "metadata": {},
          "execution_count": 18
        },
        {
          "output_type": "display_data",
          "data": {
            "text/plain": [
              "<Figure size 640x480 with 1 Axes>"
            ],
            "image/png": "[encoded data removed]"
          },
          "metadata": {}
        }
      ]
    },
    {
      "cell_type": "markdown",
      "source": [
        "Bu grafik ROC eğrisini gösteriyor. Bu eğri,  Destek Vektör Makinesi (SVM) sınıflandırıcısının performansını değerlendirmek için kullanılır.Eğri, farklı eşik ayarlarında gerçek pozitif oranı (TPR) ile yanlış pozitif oranı (FPR) arasındaki ilişkiyi gösterir. \"MLP\" modeline ait olan eğrinin altında kalan alan (AUC) yaklaşık 0.92'dir, yani modelin başarılı bir performansa sahip olduğunu göstermektedir."
      ],
      "metadata": {
        "id": "l1kSjfU5ULzV"
      }
    }
  ]
}